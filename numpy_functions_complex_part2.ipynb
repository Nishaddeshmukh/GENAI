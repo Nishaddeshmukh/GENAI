{
  "cells": [
    {
      "cell_type": "markdown",
      "metadata": {
        "id": "view-in-github",
        "colab_type": "text"
      },
      "source": [
        "<a href=\"https://colab.research.google.com/github/Nishaddeshmukh/GENAI/blob/main/numpy_functions_complex_part2.ipynb\" target=\"_parent\"><img src=\"https://colab.research.google.com/assets/colab-badge.svg\" alt=\"Open In Colab\"/></a>"
      ]
    },
    {
      "cell_type": "code",
      "execution_count": null,
      "id": "3a291ae1",
      "metadata": {
        "id": "3a291ae1",
        "outputId": "85628093-8038-4ae4-cb9c-ae4dae965275",
        "colab": {
          "base_uri": "https://localhost:8080/"
        }
      },
      "outputs": [
        {
          "output_type": "stream",
          "name": "stdout",
          "text": [
            "[0.         0.6557942  0.91715234]\n"
          ]
        }
      ],
      "source": [
        "import numpy as np\n",
        "# np.tanh()\n",
        "# Description: Calculates the hyperbolic tangent element-wise.\n",
        "# Example:\n",
        "arr = np.tanh(np.array([0, np.pi/4, np.pi/2]))\n",
        "print(arr)\n"
      ]
    },
    {
      "cell_type": "code",
      "execution_count": null,
      "id": "c765255c",
      "metadata": {
        "id": "c765255c",
        "outputId": "e6e14122-98d6-4781-bcab-a4ab9c81b6c9",
        "colab": {
          "base_uri": "https://localhost:8080/"
        }
      },
      "outputs": [
        {
          "output_type": "stream",
          "name": "stdout",
          "text": [
            "[0.         1.23340312 1.86229574]\n"
          ]
        }
      ],
      "source": [
        "# np.arcsinh()\n",
        "# Description: Inverse hyperbolic sine element-wise.\n",
        "# Example:\n",
        "arr = np.arcsinh(np.array([0, np.pi/2, np.pi]))\n",
        "print(arr)\n"
      ]
    },
    {
      "cell_type": "code",
      "execution_count": null,
      "id": "58a6e220",
      "metadata": {
        "id": "58a6e220",
        "outputId": "3cd5b3bf-610e-4d51-f7b1-930b4f7c5f4c",
        "colab": {
          "base_uri": "https://localhost:8080/"
        }
      },
      "outputs": [
        {
          "output_type": "stream",
          "name": "stdout",
          "text": [
            "[0.         1.02322748 1.81152627]\n"
          ]
        }
      ],
      "source": [
        "# np.arccosh()\n",
        "# Description: Inverse hyperbolic cosine element-wise.\n",
        "# Example:\n",
        "arr = np.arccosh(np.array([1, np.pi/2, np.pi]))\n",
        "print(arr)\n"
      ]
    },
    {
      "cell_type": "code",
      "execution_count": null,
      "id": "ffecd5a2",
      "metadata": {
        "id": "ffecd5a2",
        "outputId": "2d40dabb-ca23-4435-d76d-12ccfbfa4f78",
        "colab": {
          "base_uri": "https://localhost:8080/"
        }
      },
      "outputs": [
        {
          "output_type": "stream",
          "name": "stdout",
          "text": [
            "[0.         0.54930614 1.47221949]\n"
          ]
        }
      ],
      "source": [
        "# np.arctanh()\n",
        "# Description: Inverse hyperbolic tangent element-wise.\n",
        "# Example:\n",
        "arr = np.arctanh(np.array([0, 0.5, 0.9]))\n",
        "print(arr)\n"
      ]
    },
    {
      "cell_type": "code",
      "execution_count": null,
      "id": "f5073af1",
      "metadata": {
        "id": "f5073af1",
        "outputId": "6d2496fb-2bb6-4c4d-d7d9-3af44d30f40d",
        "colab": {
          "base_uri": "https://localhost:8080/"
        }
      },
      "outputs": [
        {
          "output_type": "stream",
          "name": "stdout",
          "text": [
            "[0.         0.78539816 1.57079633]\n"
          ]
        }
      ],
      "source": [
        "# np.deg2rad()\n",
        "# Description: Converts angles from degrees to radians.\n",
        "# Example:\n",
        "arr = np.deg2rad(np.array([0, 45, 90]))\n",
        "print(arr)\n"
      ]
    },
    {
      "cell_type": "code",
      "execution_count": null,
      "id": "3a4731b4",
      "metadata": {
        "id": "3a4731b4",
        "outputId": "6cda32be-8f3b-4ba4-ca11-c12d7edfbc68",
        "colab": {
          "base_uri": "https://localhost:8080/"
        }
      },
      "outputs": [
        {
          "output_type": "stream",
          "name": "stdout",
          "text": [
            "[ 0. 45. 90.]\n"
          ]
        }
      ],
      "source": [
        "# np.rad2deg()\n",
        "# Description: Converts angles from radians to degrees.\n",
        "# Example:\n",
        "arr = np.rad2deg(np.array([0, np.pi/4, np.pi/2]))\n",
        "print(arr)\n"
      ]
    },
    {
      "cell_type": "code",
      "execution_count": null,
      "id": "b884b18e",
      "metadata": {
        "id": "b884b18e",
        "outputId": "5cf49fb4-7f64-43c4-ddb2-31296158d1ea",
        "colab": {
          "base_uri": "https://localhost:8080/"
        }
      },
      "outputs": [
        {
          "output_type": "stream",
          "name": "stdout",
          "text": [
            "[0.         3.14159265 3.24159265 6.28318531]\n"
          ]
        }
      ],
      "source": [
        "# np.unwrap()\n",
        "# Description: Unwraps the phase angle by changing deltas between values to 2*pi complement.\n",
        "# Example:\n",
        "arr = np.unwrap(np.array([0, np.pi, np.pi + 0.1, np.pi*2]))\n",
        "print(arr)\n"
      ]
    },
    {
      "cell_type": "code",
      "execution_count": null,
      "id": "a1701099",
      "metadata": {
        "id": "a1701099",
        "outputId": "a14f605b-f002-49fc-ffeb-bbe7c90936bb",
        "colab": {
          "base_uri": "https://localhost:8080/"
        }
      },
      "outputs": [
        {
          "output_type": "stream",
          "name": "stdout",
          "text": [
            "[[10.+0.j -2.+0.j]\n",
            " [-4.+0.j  0.+0.j]]\n"
          ]
        }
      ],
      "source": [
        "# np.fft.rfftn()\n",
        "# Description: Computes the N-dimensional discrete Fourier Transform for real input.\n",
        "# Example:\n",
        "arr = np.fft.rfftn(np.array([[1, 2], [3, 4]]))\n",
        "print(arr)\n"
      ]
    },
    {
      "cell_type": "code",
      "execution_count": null,
      "id": "4796847d",
      "metadata": {
        "id": "4796847d",
        "outputId": "3eb92926-c0bc-45c6-a062-3cbf9522967c",
        "colab": {
          "base_uri": "https://localhost:8080/"
        }
      },
      "outputs": [
        {
          "output_type": "stream",
          "name": "stdout",
          "text": [
            "[[ 2.5 -0.5]\n",
            " [-1.   0. ]]\n"
          ]
        }
      ],
      "source": [
        "# np.fft.irfftn()\n",
        "# Description: Computes the inverse of the N-dimensional discrete Fourier Transform for real input.\n",
        "# Example:\n",
        "arr = np.fft.irfftn(np.array([[1, 2], [3, 4]]))\n",
        "print(arr)\n"
      ]
    },
    {
      "cell_type": "code",
      "execution_count": null,
      "id": "b152b948",
      "metadata": {
        "id": "b152b948",
        "outputId": "bc6a8665-6c38-4917-e17a-abcb699fa019",
        "colab": {
          "base_uri": "https://localhost:8080/"
        }
      },
      "outputs": [
        {
          "output_type": "stream",
          "name": "stdout",
          "text": [
            "[2. 4. 8.]\n"
          ]
        }
      ],
      "source": [
        "# np.exp2()\n",
        "# Description: Calculates 2 raised to the power of input.\n",
        "# Example:\n",
        "arr = np.exp2(np.array([1, 2, 3]))\n",
        "print(arr)\n"
      ]
    },
    {
      "cell_type": "code",
      "execution_count": null,
      "id": "377a3bf3",
      "metadata": {
        "id": "377a3bf3",
        "outputId": "32ce64ca-d1ee-4690-e8a0-7484217adcf6",
        "colab": {
          "base_uri": "https://localhost:8080/"
        }
      },
      "outputs": [
        {
          "output_type": "stream",
          "name": "stdout",
          "text": [
            "[ 1.71828183  6.3890561  19.08553692]\n"
          ]
        }
      ],
      "source": [
        "# np.expm1()\n",
        "# Description: Calculates exp(x) - 1 for all elements in the array.\n",
        "# Example:\n",
        "arr = np.expm1(np.array([1, 2, 3]))\n",
        "print(arr)\n"
      ]
    },
    {
      "cell_type": "code",
      "execution_count": null,
      "id": "5d998333",
      "metadata": {
        "id": "5d998333",
        "outputId": "74150edd-1805-4862-946d-a8492994412b",
        "colab": {
          "base_uri": "https://localhost:8080/"
        }
      },
      "outputs": [
        {
          "output_type": "stream",
          "name": "stdout",
          "text": [
            "[0.         0.69314718 1.09861229]\n"
          ]
        }
      ],
      "source": [
        "# np.log1p()\n",
        "# Description: Calculates log(1 + x) for all elements in the array.\n",
        "# Example:\n",
        "arr = np.log1p(np.array([0, 1, 2]))\n",
        "print(arr)\n"
      ]
    },
    {
      "cell_type": "code",
      "execution_count": null,
      "id": "beef0c1c",
      "metadata": {
        "id": "beef0c1c",
        "outputId": "eb8568af-d2a2-40b9-cf44-89c081e7437f",
        "colab": {
          "base_uri": "https://localhost:8080/"
        }
      },
      "outputs": [
        {
          "output_type": "stream",
          "name": "stdout",
          "text": [
            "[1. 2. 3.]\n"
          ]
        }
      ],
      "source": [
        "# np.sqrt()\n",
        "# Description: Calculates the square root element-wise.\n",
        "# Example:\n",
        "arr = np.sqrt(np.array([1, 4, 9]))\n",
        "print(arr)\n"
      ]
    },
    {
      "cell_type": "code",
      "execution_count": null,
      "id": "341079fd",
      "metadata": {
        "id": "341079fd",
        "outputId": "db2fb35e-33db-4dfb-f2de-9f152d51562f",
        "colab": {
          "base_uri": "https://localhost:8080/"
        }
      },
      "outputs": [
        {
          "output_type": "stream",
          "name": "stdout",
          "text": [
            "[1. 2. 3.]\n"
          ]
        }
      ],
      "source": [
        "# np.cbrt()\n",
        "# Description: Calculates the cube root element-wise.\n",
        "# Example:\n",
        "arr = np.cbrt(np.array([1, 8, 27]))\n",
        "print(arr)\n"
      ]
    },
    {
      "cell_type": "code",
      "execution_count": null,
      "id": "61852716",
      "metadata": {
        "id": "61852716",
        "outputId": "c6481129-d2ee-4a01-c33a-2d512d3be9b0",
        "colab": {
          "base_uri": "https://localhost:8080/"
        }
      },
      "outputs": [
        {
          "output_type": "stream",
          "name": "stdout",
          "text": [
            "[ 4  9 16]\n"
          ]
        }
      ],
      "source": [
        "# np.square()\n",
        "# Description: Calculates the square of each element.\n",
        "# Example:\n",
        "arr = np.square(np.array([2, 3, 4]))\n",
        "print(arr)\n"
      ]
    },
    {
      "cell_type": "code",
      "execution_count": null,
      "id": "b7497a1e",
      "metadata": {
        "id": "b7497a1e",
        "outputId": "fd3b8852-dd05-4915-88ae-ab82db1e1619",
        "colab": {
          "base_uri": "https://localhost:8080/"
        }
      },
      "outputs": [
        {
          "output_type": "stream",
          "name": "stdout",
          "text": [
            "[ True False False]\n"
          ]
        }
      ],
      "source": [
        "# np.signbit()\n",
        "# Description: Returns element-wise True where signbit is set (x < 0).\n",
        "# Example:\n",
        "arr = np.signbit(np.array([-1, 0, 1]))\n",
        "print(arr)\n"
      ]
    },
    {
      "cell_type": "code",
      "execution_count": null,
      "id": "8f7db8a2",
      "metadata": {
        "id": "8f7db8a2",
        "outputId": "f66bb44b-8846-48a3-d475-570440118a2e",
        "colab": {
          "base_uri": "https://localhost:8080/"
        }
      },
      "outputs": [
        {
          "output_type": "stream",
          "name": "stdout",
          "text": [
            "[-1. -0. -1.]\n"
          ]
        }
      ],
      "source": [
        "# np.copysign()\n",
        "# Description: Changes the sign of elements in x1 to match the sign of elements in x2.\n",
        "# Example:\n",
        "arr = np.copysign(np.array([-1, 0, 1]), -1)\n",
        "print(arr)\n"
      ]
    },
    {
      "cell_type": "code",
      "execution_count": null,
      "id": "d5fb03a4",
      "metadata": {
        "id": "d5fb03a4",
        "outputId": "00aed5df-c3dd-413a-b494-d81ff39e9805",
        "colab": {
          "base_uri": "https://localhost:8080/"
        }
      },
      "outputs": [
        {
          "output_type": "stream",
          "name": "stdout",
          "text": [
            "2.220446049250313e-16\n"
          ]
        }
      ],
      "source": [
        "# np.spacing()\n",
        "# Description: Returns the distance between x and the nearest adjacent number.\n",
        "# Example:\n",
        "arr = np.spacing(1)\n",
        "print(arr)\n"
      ]
    },
    {
      "cell_type": "code",
      "execution_count": null,
      "id": "1de552e2",
      "metadata": {
        "id": "1de552e2",
        "outputId": "c92eda61-180b-46b2-94af-7f96ca55b334",
        "colab": {
          "base_uri": "https://localhost:8080/"
        }
      },
      "outputs": [
        {
          "output_type": "stream",
          "name": "stdout",
          "text": [
            "[1. 2.]\n"
          ]
        }
      ],
      "source": [
        "# np.nextafter()\n",
        "# Description: Returns the next floating-point value after x1 towards x2.\n",
        "# Example:\n",
        "arr = np.nextafter(np.array([1.0, 2.0]), np.array([2.0, 3.0]))\n",
        "print(arr)\n"
      ]
    },
    {
      "cell_type": "code",
      "execution_count": null,
      "id": "a7d835a1",
      "metadata": {
        "id": "a7d835a1",
        "outputId": "121b2bc9-c305-41f2-f69a-8b055ee96122",
        "colab": {
          "base_uri": "https://localhost:8080/"
        }
      },
      "outputs": [
        {
          "output_type": "stream",
          "name": "stdout",
          "text": [
            "[1 0 1]\n"
          ]
        }
      ],
      "source": [
        "# np.fmod()\n",
        "# Description: Returns the element-wise remainder of the division.\n",
        "# Example:\n",
        "arr = np.fmod(np.array([1, 2, 3]), 2)\n",
        "print(arr)\n"
      ]
    },
    {
      "cell_type": "code",
      "execution_count": null,
      "id": "8ce98467",
      "metadata": {
        "id": "8ce98467",
        "outputId": "39eec0ce-4499-4be3-d3b8-a9a64dc897bf",
        "colab": {
          "base_uri": "https://localhost:8080/"
        }
      },
      "outputs": [
        {
          "output_type": "stream",
          "name": "stdout",
          "text": [
            "[1 0 1]\n"
          ]
        }
      ],
      "source": [
        "# np.remainder()\n",
        "# Description: Returns the element-wise remainder of the division (same as mod).\n",
        "# Example:\n",
        "arr = np.remainder(np.array([1, 2, 3]), 2)\n",
        "print(arr)\n"
      ]
    },
    {
      "cell_type": "code",
      "execution_count": null,
      "id": "6ae00c5b",
      "metadata": {
        "id": "6ae00c5b",
        "outputId": "b71825de-5b2a-4918-a88e-8444adae43dc",
        "colab": {
          "base_uri": "https://localhost:8080/"
        }
      },
      "outputs": [
        {
          "output_type": "stream",
          "name": "stdout",
          "text": [
            "[0.5 0.3 0.8]\n",
            "[1. 2. 3.]\n"
          ]
        }
      ],
      "source": [
        "# np.modf()\n",
        "# Description: Returns the fractional and integer parts of the array.\n",
        "# Example:\n",
        "frac, integer = np.modf(np.array([1.5, 2.3, 3.8]))\n",
        "print(frac)\n",
        "print(integer)\n"
      ]
    },
    {
      "cell_type": "code",
      "execution_count": null,
      "id": "64ceb5e2",
      "metadata": {
        "id": "64ceb5e2",
        "outputId": "6b01eb6f-0573-40f7-dfdf-f41d26d1a728",
        "colab": {
          "base_uri": "https://localhost:8080/"
        }
      },
      "outputs": [
        {
          "output_type": "stream",
          "name": "stdout",
          "text": [
            "[ True  True False False]\n"
          ]
        }
      ],
      "source": [
        "# np.isfinite()\n",
        "# Description: Tests element-wise for finiteness (not infinity or NaN).\n",
        "# Example:\n",
        "arr = np.isfinite(np.array([1, 2, np.nan, np.inf]))\n",
        "print(arr)\n"
      ]
    },
    {
      "cell_type": "code",
      "execution_count": null,
      "id": "d3d9904f",
      "metadata": {
        "id": "d3d9904f",
        "outputId": "33e13cad-3987-4c87-b790-6a29e596f7b7",
        "colab": {
          "base_uri": "https://localhost:8080/"
        }
      },
      "outputs": [
        {
          "output_type": "stream",
          "name": "stdout",
          "text": [
            "[False False  True  True]\n"
          ]
        }
      ],
      "source": [
        "# np.isinf()\n",
        "# Description: Tests element-wise for positive or negative infinity.\n",
        "# Example:\n",
        "arr = np.isinf(np.array([1, 2, np.inf, -np.inf]))\n",
        "print(arr)\n"
      ]
    },
    {
      "cell_type": "code",
      "execution_count": null,
      "id": "42571f45",
      "metadata": {
        "id": "42571f45",
        "outputId": "69ea70e4-85ca-4131-8e91-01ab39eb2584",
        "colab": {
          "base_uri": "https://localhost:8080/"
        }
      },
      "outputs": [
        {
          "output_type": "stream",
          "name": "stdout",
          "text": [
            "[False  True False]\n"
          ]
        }
      ],
      "source": [
        "# np.isnan()\n",
        "# Description: Tests element-wise for NaN.\n",
        "# Example:\n",
        "arr = np.isnan(np.array([1, np.nan, 3]))\n",
        "print(arr)\n"
      ]
    }
  ],
  "metadata": {
    "colab": {
      "provenance": [],
      "include_colab_link": true
    },
    "language_info": {
      "name": "python"
    },
    "kernelspec": {
      "name": "python3",
      "display_name": "Python 3"
    }
  },
  "nbformat": 4,
  "nbformat_minor": 5
}