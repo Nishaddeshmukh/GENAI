{
  "nbformat": 4,
  "nbformat_minor": 0,
  "metadata": {
    "colab": {
      "provenance": [],
      "authorship_tag": "ABX9TyMlBJ73Pus9iGaqLX4X7V6+",
      "include_colab_link": true
    },
    "kernelspec": {
      "name": "python3",
      "display_name": "Python 3"
    },
    "language_info": {
      "name": "python"
    }
  },
  "cells": [
    {
      "cell_type": "markdown",
      "metadata": {
        "id": "view-in-github",
        "colab_type": "text"
      },
      "source": [
        "<a href=\"https://colab.research.google.com/github/Nishaddeshmukh/GENAI/blob/main/GenAI.ipynb\" target=\"_parent\"><img src=\"https://colab.research.google.com/assets/colab-badge.svg\" alt=\"Open In Colab\"/></a>"
      ]
    },
    {
      "cell_type": "code",
      "execution_count": 1,
      "metadata": {
        "id": "xWxy1VCM_AKm",
        "outputId": "409e9144-a523-4525-af25-ab6858757368",
        "colab": {
          "base_uri": "https://localhost:8080/"
        }
      },
      "outputs": [
        {
          "output_type": "execute_result",
          "data": {
            "text/plain": [
              "['ArithmeticError',\n",
              " 'AssertionError',\n",
              " 'AttributeError',\n",
              " 'BaseException',\n",
              " 'BaseExceptionGroup',\n",
              " 'BlockingIOError',\n",
              " 'BrokenPipeError',\n",
              " 'BufferError',\n",
              " 'BytesWarning',\n",
              " 'ChildProcessError',\n",
              " 'ConnectionAbortedError',\n",
              " 'ConnectionError',\n",
              " 'ConnectionRefusedError',\n",
              " 'ConnectionResetError',\n",
              " 'DeprecationWarning',\n",
              " 'EOFError',\n",
              " 'Ellipsis',\n",
              " 'EncodingWarning',\n",
              " 'EnvironmentError',\n",
              " 'Exception',\n",
              " 'ExceptionGroup',\n",
              " 'False',\n",
              " 'FileExistsError',\n",
              " 'FileNotFoundError',\n",
              " 'FloatingPointError',\n",
              " 'FutureWarning',\n",
              " 'GeneratorExit',\n",
              " 'IOError',\n",
              " 'ImportError',\n",
              " 'ImportWarning',\n",
              " 'IndentationError',\n",
              " 'IndexError',\n",
              " 'InterruptedError',\n",
              " 'IsADirectoryError',\n",
              " 'KeyError',\n",
              " 'KeyboardInterrupt',\n",
              " 'LookupError',\n",
              " 'MemoryError',\n",
              " 'ModuleNotFoundError',\n",
              " 'NameError',\n",
              " 'None',\n",
              " 'NotADirectoryError',\n",
              " 'NotImplemented',\n",
              " 'NotImplementedError',\n",
              " 'OSError',\n",
              " 'OverflowError',\n",
              " 'PendingDeprecationWarning',\n",
              " 'PermissionError',\n",
              " 'ProcessLookupError',\n",
              " 'RecursionError',\n",
              " 'ReferenceError',\n",
              " 'ResourceWarning',\n",
              " 'RuntimeError',\n",
              " 'RuntimeWarning',\n",
              " 'StopAsyncIteration',\n",
              " 'StopIteration',\n",
              " 'SyntaxError',\n",
              " 'SyntaxWarning',\n",
              " 'SystemError',\n",
              " 'SystemExit',\n",
              " 'TabError',\n",
              " 'TimeoutError',\n",
              " 'True',\n",
              " 'TypeError',\n",
              " 'UnboundLocalError',\n",
              " 'UnicodeDecodeError',\n",
              " 'UnicodeEncodeError',\n",
              " 'UnicodeError',\n",
              " 'UnicodeTranslateError',\n",
              " 'UnicodeWarning',\n",
              " 'UserWarning',\n",
              " 'ValueError',\n",
              " 'Warning',\n",
              " 'ZeroDivisionError',\n",
              " '__IPYTHON__',\n",
              " '__build_class__',\n",
              " '__debug__',\n",
              " '__doc__',\n",
              " '__import__',\n",
              " '__loader__',\n",
              " '__name__',\n",
              " '__package__',\n",
              " '__pybind11_internals_v4_gcc_libstdcpp_cxxabi1014__',\n",
              " '__spec__',\n",
              " 'abs',\n",
              " 'aiter',\n",
              " 'all',\n",
              " 'anext',\n",
              " 'any',\n",
              " 'ascii',\n",
              " 'bin',\n",
              " 'bool',\n",
              " 'breakpoint',\n",
              " 'bytearray',\n",
              " 'bytes',\n",
              " 'callable',\n",
              " 'chr',\n",
              " 'classmethod',\n",
              " 'compile',\n",
              " 'complex',\n",
              " 'copyright',\n",
              " 'credits',\n",
              " 'delattr',\n",
              " 'dict',\n",
              " 'dir',\n",
              " 'display',\n",
              " 'divmod',\n",
              " 'enumerate',\n",
              " 'eval',\n",
              " 'exec',\n",
              " 'execfile',\n",
              " 'filter',\n",
              " 'float',\n",
              " 'format',\n",
              " 'frozenset',\n",
              " 'get_ipython',\n",
              " 'getattr',\n",
              " 'globals',\n",
              " 'hasattr',\n",
              " 'hash',\n",
              " 'help',\n",
              " 'hex',\n",
              " 'id',\n",
              " 'input',\n",
              " 'int',\n",
              " 'isinstance',\n",
              " 'issubclass',\n",
              " 'iter',\n",
              " 'len',\n",
              " 'license',\n",
              " 'list',\n",
              " 'locals',\n",
              " 'map',\n",
              " 'max',\n",
              " 'memoryview',\n",
              " 'min',\n",
              " 'next',\n",
              " 'object',\n",
              " 'oct',\n",
              " 'open',\n",
              " 'ord',\n",
              " 'pow',\n",
              " 'print',\n",
              " 'property',\n",
              " 'range',\n",
              " 'repr',\n",
              " 'reversed',\n",
              " 'round',\n",
              " 'runfile',\n",
              " 'set',\n",
              " 'setattr',\n",
              " 'slice',\n",
              " 'sorted',\n",
              " 'staticmethod',\n",
              " 'str',\n",
              " 'sum',\n",
              " 'super',\n",
              " 'tuple',\n",
              " 'type',\n",
              " 'vars',\n",
              " 'zip']"
            ]
          },
          "metadata": {},
          "execution_count": 1
        }
      ],
      "source": [
        "dir(__builtin__)"
      ]
    },
    {
      "cell_type": "markdown",
      "source": [
        "**`Numpy practice set `**"
      ],
      "metadata": {
        "id": "3MI5gz7IMP_j"
      }
    },
    {
      "cell_type": "code",
      "source": [
        "import numpy as np\n",
        "\n",
        "arr = np.array([1,2,3])\n",
        "print(arr)"
      ],
      "metadata": {
        "id": "fz70cAxFMAF-",
        "outputId": "1208c5d3-88e9-4d35-f6a3-6f3142ba9053",
        "colab": {
          "base_uri": "https://localhost:8080/"
        }
      },
      "execution_count": 3,
      "outputs": [
        {
          "output_type": "stream",
          "name": "stdout",
          "text": [
            "[1 2 3]\n"
          ]
        }
      ]
    },
    {
      "cell_type": "code",
      "source": [
        "arr= np.zeros(2,dtype = int)\n",
        "print(arr)"
      ],
      "metadata": {
        "id": "yBPiNY1PM5FK",
        "outputId": "58f37b78-c2be-42ca-c430-2b8112284975",
        "colab": {
          "base_uri": "https://localhost:8080/"
        }
      },
      "execution_count": 4,
      "outputs": [
        {
          "output_type": "stream",
          "name": "stdout",
          "text": [
            "[0 0]\n"
          ]
        }
      ]
    },
    {
      "cell_type": "code",
      "source": [
        "arr= np.zeros(2,dtype = int)\n",
        "print(arr)\n",
        "arr= np.zeros(2,dtype = float)\n",
        "print(arr)"
      ],
      "metadata": {
        "id": "GRKfgbpuNJPa",
        "outputId": "bfac979d-4685-4fcd-acfc-5b2e78d243de",
        "colab": {
          "base_uri": "https://localhost:8080/"
        }
      },
      "execution_count": 11,
      "outputs": [
        {
          "output_type": "stream",
          "name": "stdout",
          "text": [
            "[0 0]\n",
            "[0. 0.]\n"
          ]
        }
      ]
    },
    {
      "cell_type": "code",
      "source": [
        "arr=np.ones(2,dtype = int)\n",
        "print(arr)\n",
        "arr2=np.ones(2,dtype = str)\n",
        "print(arr2)\n",
        "\n",
        "arr= np.ones(2)        #default datatype is float for np.ones()\n",
        "print(arr)"
      ],
      "metadata": {
        "id": "a5fRUIoFNPg6",
        "outputId": "9b5f6848-75af-4557-d2a5-77f653bc1abd",
        "colab": {
          "base_uri": "https://localhost:8080/"
        }
      },
      "execution_count": 16,
      "outputs": [
        {
          "output_type": "stream",
          "name": "stdout",
          "text": [
            "[1 1]\n",
            "['1' '1']\n",
            "[1. 1.]\n"
          ]
        }
      ]
    },
    {
      "cell_type": "code",
      "source": [
        "# np.empty()\n",
        "# Description: Creates an uninitialized array.\n",
        "# Example:\n",
        "import numpy as np\n",
        "arr1= np.empty([1, 1])   #-> 1x1\n",
        "arr2 = np.empty((3,7))   #3x7 mat\n",
        "print(arr1)\n",
        "print(arr2)\n"
      ],
      "metadata": {
        "id": "kQgCERq9N1ZB",
        "outputId": "c59423a4-3b44-4259-ff10-50a1b455b0f7",
        "colab": {
          "base_uri": "https://localhost:8080/"
        }
      },
      "execution_count": 19,
      "outputs": [
        {
          "output_type": "stream",
          "name": "stdout",
          "text": [
            "[[3.4e-321]]\n",
            "[[3.26670108e-316 0.00000000e+000 4.32453723e-096 2.14027814e+161\n",
            "  1.47762371e+248 4.30625279e-096 4.82337723e+228]\n",
            " [1.00552232e-070 5.14776014e-062 7.35365846e-043 4.75376121e-037\n",
            "  4.30513777e-096 1.16097020e-028 3.21142670e-322]\n",
            " [6.75138464e-310 6.75138464e-310 1.04917184e-153 9.08366791e+223\n",
            "  6.14415221e-144 6.75138464e-310 1.10670705e-321]]\n"
          ]
        }
      ]
    },
    {
      "cell_type": "code",
      "source": [
        "#np.arrange()\n",
        "\n",
        "arr = np.arange(0,10,2)  # 0 to 10  with equal interval 2\n",
        "print(arr)"
      ],
      "metadata": {
        "id": "dYk5nRRIO2n9",
        "outputId": "b3d3e4c9-2442-4d26-90f9-571ec5d29928",
        "colab": {
          "base_uri": "https://localhost:8080/"
        }
      },
      "execution_count": 22,
      "outputs": [
        {
          "output_type": "stream",
          "name": "stdout",
          "text": [
            "[0 2 4 6 8]\n"
          ]
        }
      ]
    },
    {
      "cell_type": "code",
      "source": [
        "arr = np.linspace(2,10,10)  # creates an array with evenly spaced values\n",
        "print(arr)"
      ],
      "metadata": {
        "id": "kvxHTENWPAnS",
        "outputId": "f61934d2-4e27-481c-9f19-37f9f6f88e48",
        "colab": {
          "base_uri": "https://localhost:8080/"
        }
      },
      "execution_count": 25,
      "outputs": [
        {
          "output_type": "stream",
          "name": "stdout",
          "text": [
            "[ 2.          2.88888889  3.77777778  4.66666667  5.55555556  6.44444444\n",
            "  7.33333333  8.22222222  9.11111111 10.        ]\n"
          ]
        }
      ]
    },
    {
      "cell_type": "code",
      "source": [
        "arr = np.eye(3)\n",
        "print(arr)            #identity matrix of 3x3"
      ],
      "metadata": {
        "id": "_IUO6S7dPnik",
        "outputId": "38ba7e3b-d441-49c1-b2ff-3e63009efe21",
        "colab": {
          "base_uri": "https://localhost:8080/"
        }
      },
      "execution_count": 28,
      "outputs": [
        {
          "output_type": "stream",
          "name": "stdout",
          "text": [
            "[[1. 0. 0.]\n",
            " [0. 1. 0.]\n",
            " [0. 0. 1.]]\n"
          ]
        }
      ]
    },
    {
      "cell_type": "code",
      "source": [
        "arr=np.random.rand(3,3)   #\n",
        "print(arr)\n",
        "\n",
        "arr1=np.random.randint(0,1005,(3,3))   #   range -> 0 to 1005 and mat will be 3x3\n",
        "print(arr1)"
      ],
      "metadata": {
        "id": "WxvoUFWRP01E",
        "outputId": "95cb2a93-351e-40a5-8bc2-9c25023ebac2",
        "colab": {
          "base_uri": "https://localhost:8080/"
        }
      },
      "execution_count": 33,
      "outputs": [
        {
          "output_type": "stream",
          "name": "stdout",
          "text": [
            "[[0.79427939 0.40803871 0.22614929]\n",
            " [0.93889313 0.03154731 0.69004017]\n",
            " [0.35353831 0.09314301 0.19681161]]\n",
            "[[308 593 795]\n",
            " [881   2 283]\n",
            " [991 211 277]]\n"
          ]
        }
      ]
    },
    {
      "cell_type": "code",
      "source": [
        "\n",
        "\n",
        "\n",
        "# np.reshape()\n",
        "# Description: Reshapes an array.\n",
        "# Example:\n",
        "arr = np.array([1, 2, 3, 4]).reshape(2, 2)\n",
        "print(arr)\n",
        "print('\\n')\n",
        "\n",
        "# np.transpose()\n",
        "# Description: Transposes an array.\n",
        "# Example:\n",
        "arr = np.array([[1, 2], [3, 4]]).transpose()\n",
        "print(arr)\n",
        "\n",
        "print('\\n')\n",
        "\n",
        "\n",
        "# np.concatenate()\n",
        "# Description: Concatenates two arrays.\n",
        "# Example:\n",
        "arr = np.concatenate(([1, 2], [3, 4]))\n",
        "print(arr)\n",
        "print('\\n')\n",
        "\n",
        "\n"
      ],
      "metadata": {
        "id": "McZlEgExP-CD",
        "outputId": "3b074ec1-3b76-478b-ecb0-fa6f3f5f8918",
        "colab": {
          "base_uri": "https://localhost:8080/"
        }
      },
      "execution_count": 37,
      "outputs": [
        {
          "output_type": "stream",
          "name": "stdout",
          "text": [
            "[[1 2]\n",
            " [3 4]]\n",
            "\n",
            "\n",
            "[[1 3]\n",
            " [2 4]]\n",
            "\n",
            "\n",
            "[1 2 3 4]\n",
            "\n",
            "\n"
          ]
        }
      ]
    },
    {
      "cell_type": "code",
      "source": [
        "# np.vstack()\n",
        "# Description: Stacks arrays vertically.\n",
        "\n",
        "# Example:\n",
        "import numpy as np\n",
        "a = np.array([(1,2,3,4),(3,4,5,5),(1,2,3,5)])\n",
        "b = np.array([(1,2,3,4),(3,4,5,5),(1,2,3,6)])\n",
        "\n",
        "\n",
        "# arr = np.vstack(([1, 2], [3, 4]))\n",
        "# print(arr)\n",
        "#vertical stacking\n",
        "print(a)\n",
        "print(\"Shape of array a is \", np.shape(a))\n",
        "print(b)\n",
        "print (\"Shape of array b is \",np.shape(b))\n",
        "print(np.vstack((a,b)))\n",
        "print(\"Shape of arry after vstack is \", np.vstack((a,b)).shape)\n",
        "\n",
        "\n",
        "#horizontal  stacking\n",
        "print('\\n')\n",
        "print(a)\n",
        "print(b)\n",
        "print (np.shape(a))\n",
        "print (np.shape(b)) #jfhgjfhg\n",
        "print(np.hstack((a,b)).shape)\n",
        "print(np.hstack((a,b)))\n",
        "\n"
      ],
      "metadata": {
        "id": "3A-fG5jwc7pD",
        "outputId": "64b4032a-4f95-47ca-98f5-54df705401e5",
        "colab": {
          "base_uri": "https://localhost:8080/"
        }
      },
      "execution_count": 41,
      "outputs": [
        {
          "output_type": "stream",
          "name": "stdout",
          "text": [
            "[[1 2 3 4]\n",
            " [3 4 5 5]\n",
            " [1 2 3 5]]\n",
            "Shape of array a is  (3, 4)\n",
            "[[1 2 3 4]\n",
            " [3 4 5 5]\n",
            " [1 2 3 6]]\n",
            "Shape of array b is  (3, 4)\n",
            "[[1 2 3 4]\n",
            " [3 4 5 5]\n",
            " [1 2 3 5]\n",
            " [1 2 3 4]\n",
            " [3 4 5 5]\n",
            " [1 2 3 6]]\n",
            "Shape of arry after vstack is  (6, 4)\n",
            "\n",
            "\n",
            "[[1 2 3 4]\n",
            " [3 4 5 5]\n",
            " [1 2 3 5]]\n",
            "[[1 2 3 4]\n",
            " [3 4 5 5]\n",
            " [1 2 3 6]]\n",
            "(3, 4)\n",
            "(3, 4)\n",
            "(3, 8)\n",
            "[[1 2 3 4 1 2 3 4]\n",
            " [3 4 5 5 3 4 5 5]\n",
            " [1 2 3 5 1 2 3 6]]\n"
          ]
        }
      ]
    },
    {
      "cell_type": "code",
      "source": [
        "import numpy as np\n",
        "\n",
        "# Original array\n",
        "data = np.array([1, 2, 3, 4, 5])  # Example with 5 elements\n",
        "\n",
        "# Desired shape (e.g., 2x3, which requires 6 elements)\n",
        "target_shape = (4, 4)\n",
        "\n",
        "# Use np.resize to fit the target shape\n",
        "reshaped_array = np.resize(data, target_shape)         # here target elements will get repeated\n",
        "\n",
        "print(\"Reshaped Array:\")\n",
        "print(reshaped_array)"
      ],
      "metadata": {
        "id": "6wDl47X-dal2",
        "outputId": "3aed3c5a-a27e-4735-8925-9ab869b3b203",
        "colab": {
          "base_uri": "https://localhost:8080/"
        }
      },
      "execution_count": 43,
      "outputs": [
        {
          "output_type": "stream",
          "name": "stdout",
          "text": [
            "Reshaped Array:\n",
            "[[1 2 3 4]\n",
            " [5 1 2 3]\n",
            " [4 5 1 2]\n",
            " [3 4 5 1]]\n"
          ]
        }
      ]
    },
    {
      "cell_type": "code",
      "source": [
        "# np.split()\n",
        "# Description: Splits an array into multiple sub-arrays.\n",
        "# Example:\n",
        "arr = np.split(np.array([1, 2, 3, 4]), 2)          # splitting into 2 numpy array\n",
        "print(arr)"
      ],
      "metadata": {
        "id": "-pKIBz6iepKM",
        "outputId": "53f3a171-e22c-48f4-e2d4-927bf3200e10",
        "colab": {
          "base_uri": "https://localhost:8080/"
        }
      },
      "execution_count": 44,
      "outputs": [
        {
          "output_type": "stream",
          "name": "stdout",
          "text": [
            "[array([1, 2]), array([3, 4])]\n"
          ]
        }
      ]
    },
    {
      "cell_type": "code",
      "source": [
        "# np.hsplit()\n",
        "# Description: Splits an array into multiple sub-arrays horizontally.\n",
        "# Example:\n",
        "arr = np.hsplit(np.array([[1, 2], [3, 4]]), 2)\n",
        "print(arr)\n",
        "\n",
        "print('\\n')\n",
        "# np.vsplit()\n",
        "# Description: Splits an array into multiple sub-arrays vertically.\n",
        "# Example:\n",
        "arr = np.vsplit(np.array([[1, 2], [3, 4]]), 2)\n",
        "print(arr)\n"
      ],
      "metadata": {
        "id": "e3PCfWfyfFih",
        "outputId": "9b0ff2a8-d2d8-46e7-ec72-ceafdfaba9d3",
        "colab": {
          "base_uri": "https://localhost:8080/"
        }
      },
      "execution_count": 46,
      "outputs": [
        {
          "output_type": "stream",
          "name": "stdout",
          "text": [
            "[array([[1],\n",
            "       [3]]), array([[2],\n",
            "       [4]])]\n",
            "\n",
            "\n",
            "[array([[1, 2]]), array([[3, 4]])]\n"
          ]
        }
      ]
    },
    {
      "cell_type": "markdown",
      "source": [
        "**DIMENSIONS CHANGIG CODE**"
      ],
      "metadata": {
        "id": "mBowaHQUie9N"
      }
    },
    {
      "cell_type": "code",
      "source": [
        "#dimension changes\n",
        "#a = np.array(([1,2,3,4],[5,6,7,8]))\n",
        "import numpy as np\n",
        "a = np.array([[1,2,3,4],[5,6,7,8]])\n",
        "print(a)\n",
        "print('first')\n",
        "print(a.shape)\n",
        "#print(a.shape())\n",
        "a = a.reshape(4,2)\n",
        "#a = a.reshape(-1)\n",
        "#a = a.reshape(1,8)\n",
        "print('second')\n",
        "print(a)\n",
        "print(a.shape)\n"
      ],
      "metadata": {
        "id": "fvguts6_gud4",
        "outputId": "ac87edfa-cede-460d-9dca-de747a5193d4",
        "colab": {
          "base_uri": "https://localhost:8080/"
        }
      },
      "execution_count": 47,
      "outputs": [
        {
          "output_type": "stream",
          "name": "stdout",
          "text": [
            "[[1 2 3 4]\n",
            " [5 6 7 8]]\n",
            "first\n",
            "(2, 4)\n",
            "second\n",
            "[[1 2]\n",
            " [3 4]\n",
            " [5 6]\n",
            " [7 8]]\n",
            "(4, 2)\n"
          ]
        }
      ]
    },
    {
      "cell_type": "code",
      "source": [
        "\n",
        "print(a)\n",
        "aa = a.repeat(3, 0)           #--> repeat 3 times of 0Th axis\n",
        "# # a = a.repeat(0, 3)\n",
        "print(aa)\n",
        "print(aa.shape)"
      ],
      "metadata": {
        "id": "6eJCDHR8iFYm",
        "outputId": "ae59bdda-7337-43a0-8749-7794ef7872b8",
        "colab": {
          "base_uri": "https://localhost:8080/"
        }
      },
      "execution_count": 49,
      "outputs": [
        {
          "output_type": "stream",
          "name": "stdout",
          "text": [
            "[[1 2]\n",
            " [3 4]\n",
            " [5 6]\n",
            " [7 8]]\n",
            "[[1 2]\n",
            " [1 2]\n",
            " [1 2]\n",
            " [3 4]\n",
            " [3 4]\n",
            " [3 4]\n",
            " [5 6]\n",
            " [5 6]\n",
            " [5 6]\n",
            " [7 8]\n",
            " [7 8]\n",
            " [7 8]]\n",
            "(12, 2)\n"
          ]
        }
      ]
    },
    {
      "cell_type": "code",
      "source": [
        "\n",
        "print(a)\n",
        "a = a.repeat(3, 1)    #--> repeat 3 times of 0Th axis\n",
        "print(a)\n",
        "print(a.shape)"
      ],
      "metadata": {
        "id": "5yCFHgz3iPTv",
        "outputId": "2a3849db-a8c2-4348-fccb-6e86ecb52647",
        "colab": {
          "base_uri": "https://localhost:8080/"
        }
      },
      "execution_count": 50,
      "outputs": [
        {
          "output_type": "stream",
          "name": "stdout",
          "text": [
            "[[1 2]\n",
            " [3 4]\n",
            " [5 6]\n",
            " [7 8]]\n",
            "[[1 1 1 2 2 2]\n",
            " [3 3 3 4 4 4]\n",
            " [5 5 5 6 6 6]\n",
            " [7 7 7 8 8 8]]\n",
            "(4, 6)\n"
          ]
        }
      ]
    },
    {
      "cell_type": "code",
      "source": [
        "import numpy as np\n",
        "\n",
        "# Original array of shape (3, 3, 4)\n",
        "array_3d = np.random.randint(0, 100, (3, 3, 4))     # range -> 0 to 100 , shape (3, 3, 4) --> 3 of 3x4\n",
        "print(\"Original 3D array:\")\n",
        "print(array_3d)\n",
        "print(\"Original shape:\", array_3d.shape)\n",
        "\n",
        "# Repeat the array along the first axis to achieve shape (6, 3, 4)\n",
        "new_array = np.tile(array_3d, (2, 1, 1))  # Repeat only along the first axis\n",
        "print(new_array)\n",
        "print(\"\\nNew 3D array after repeating along the first axis:\")\n",
        "print(new_array)\n",
        "print(\"New shape:\", new_array.shape)"
      ],
      "metadata": {
        "id": "vdWxt1Qdijok",
        "outputId": "9b1d0985-e1f1-46d8-ad65-65df72afaeb6",
        "colab": {
          "base_uri": "https://localhost:8080/"
        }
      },
      "execution_count": 51,
      "outputs": [
        {
          "output_type": "stream",
          "name": "stdout",
          "text": [
            "Original 3D array:\n",
            "[[[53 14 52 36]\n",
            "  [12  6  8 42]\n",
            "  [30 42  4 25]]\n",
            "\n",
            " [[78 18 67 25]\n",
            "  [10 92 32 58]\n",
            "  [42 12 29  8]]\n",
            "\n",
            " [[16  8 26 63]\n",
            "  [98 18  8 17]\n",
            "  [74 12 59 46]]]\n",
            "Original shape: (3, 3, 4)\n",
            "[[[53 14 52 36]\n",
            "  [12  6  8 42]\n",
            "  [30 42  4 25]]\n",
            "\n",
            " [[78 18 67 25]\n",
            "  [10 92 32 58]\n",
            "  [42 12 29  8]]\n",
            "\n",
            " [[16  8 26 63]\n",
            "  [98 18  8 17]\n",
            "  [74 12 59 46]]\n",
            "\n",
            " [[53 14 52 36]\n",
            "  [12  6  8 42]\n",
            "  [30 42  4 25]]\n",
            "\n",
            " [[78 18 67 25]\n",
            "  [10 92 32 58]\n",
            "  [42 12 29  8]]\n",
            "\n",
            " [[16  8 26 63]\n",
            "  [98 18  8 17]\n",
            "  [74 12 59 46]]]\n",
            "\n",
            "New 3D array after repeating along the first axis:\n",
            "[[[53 14 52 36]\n",
            "  [12  6  8 42]\n",
            "  [30 42  4 25]]\n",
            "\n",
            " [[78 18 67 25]\n",
            "  [10 92 32 58]\n",
            "  [42 12 29  8]]\n",
            "\n",
            " [[16  8 26 63]\n",
            "  [98 18  8 17]\n",
            "  [74 12 59 46]]\n",
            "\n",
            " [[53 14 52 36]\n",
            "  [12  6  8 42]\n",
            "  [30 42  4 25]]\n",
            "\n",
            " [[78 18 67 25]\n",
            "  [10 92 32 58]\n",
            "  [42 12 29  8]]\n",
            "\n",
            " [[16  8 26 63]\n",
            "  [98 18  8 17]\n",
            "  [74 12 59 46]]]\n",
            "New shape: (6, 3, 4)\n"
          ]
        }
      ]
    },
    {
      "cell_type": "code",
      "source": [
        "# np.sort()\n",
        "# Description: Sorts an array.\n",
        "# Example:\n",
        "arr = np.sort(np.array([3, 1, 2]))\n",
        "print(arr)\n"
      ],
      "metadata": {
        "id": "TRGtflz0kasm",
        "outputId": "2ebc9b0a-2067-4a23-9c2a-36c1fec89955",
        "colab": {
          "base_uri": "https://localhost:8080/"
        }
      },
      "execution_count": 52,
      "outputs": [
        {
          "output_type": "stream",
          "name": "stdout",
          "text": [
            "[1 2 3]\n"
          ]
        }
      ]
    },
    {
      "cell_type": "code",
      "source": [
        "\n",
        "\n",
        "\n",
        "# np.argsort()\n",
        "# Description: Returns the indices that would sort an array.\n",
        "# Example:\n",
        "arr = np.argsort(np.array([3, 1, 2]))\n",
        "#                          0  1  2\n",
        "print(arr)\n"
      ],
      "metadata": {
        "id": "XCnRoWyPlkdR",
        "outputId": "100bb470-446c-415d-f7d8-dc9581a670da",
        "colab": {
          "base_uri": "https://localhost:8080/"
        }
      },
      "execution_count": 53,
      "outputs": [
        {
          "output_type": "stream",
          "name": "stdout",
          "text": [
            "[1 2 0]\n"
          ]
        }
      ]
    }
  ]
}